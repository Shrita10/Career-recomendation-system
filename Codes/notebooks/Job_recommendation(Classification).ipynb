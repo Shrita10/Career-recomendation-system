{
 "cells": [
  {
   "cell_type": "code",
   "execution_count": 1,
   "metadata": {},
   "outputs": [],
   "source": [
    "import pandas as pd\n",
    "pd.options.display.max_columns = 500"
   ]
  },
  {
   "cell_type": "code",
   "execution_count": 2,
   "metadata": {},
   "outputs": [],
   "source": [
    "df1 = pd.read_csv('C:\\\\Users\\\\Shrita\\\\Desktop\\\\Admission\\\\job_rec.csv')"
   ]
  },
  {
   "cell_type": "code",
   "execution_count": 3,
   "metadata": {},
   "outputs": [
    {
     "data": {
      "text/html": [
       "<div>\n",
       "<style scoped>\n",
       "    .dataframe tbody tr th:only-of-type {\n",
       "        vertical-align: middle;\n",
       "    }\n",
       "\n",
       "    .dataframe tbody tr th {\n",
       "        vertical-align: top;\n",
       "    }\n",
       "\n",
       "    .dataframe thead th {\n",
       "        text-align: right;\n",
       "    }\n",
       "</style>\n",
       "<table border=\"1\" class=\"dataframe\">\n",
       "  <thead>\n",
       "    <tr style=\"text-align: right;\">\n",
       "      <th></th>\n",
       "      <th>jobpost</th>\n",
       "      <th>date</th>\n",
       "      <th>Title</th>\n",
       "      <th>Company</th>\n",
       "      <th>AnnouncementCode</th>\n",
       "      <th>Term</th>\n",
       "      <th>Eligibility</th>\n",
       "      <th>Audience</th>\n",
       "      <th>StartDate</th>\n",
       "      <th>Duration</th>\n",
       "      <th>Location</th>\n",
       "      <th>JobDescription</th>\n",
       "      <th>JobRequirment</th>\n",
       "      <th>RequiredQual</th>\n",
       "      <th>Salary</th>\n",
       "      <th>ApplicationP</th>\n",
       "      <th>OpeningDate</th>\n",
       "      <th>Deadline</th>\n",
       "      <th>Notes</th>\n",
       "      <th>AboutC</th>\n",
       "      <th>Attach</th>\n",
       "      <th>Year</th>\n",
       "      <th>Month</th>\n",
       "      <th>IT</th>\n",
       "    </tr>\n",
       "  </thead>\n",
       "  <tbody>\n",
       "    <tr>\n",
       "      <th>0</th>\n",
       "      <td>AMERIA Investment Consulting Company\\r\\nJOB TI...</td>\n",
       "      <td>Jan 5, 2004</td>\n",
       "      <td>Chief Financial Officer</td>\n",
       "      <td>AMERIA Investment Consulting Company</td>\n",
       "      <td>NaN</td>\n",
       "      <td>NaN</td>\n",
       "      <td>NaN</td>\n",
       "      <td>NaN</td>\n",
       "      <td>NaN</td>\n",
       "      <td>NaN</td>\n",
       "      <td>Yerevan, Armenia</td>\n",
       "      <td>AMERIA Investment Consulting Company is seekin...</td>\n",
       "      <td>- Supervises financial management and administ...</td>\n",
       "      <td>To perform this job successfully, an\\r\\nindivi...</td>\n",
       "      <td>NaN</td>\n",
       "      <td>To apply for this position, please submit a\\r\\...</td>\n",
       "      <td>NaN</td>\n",
       "      <td>26 January 2004</td>\n",
       "      <td>NaN</td>\n",
       "      <td>NaN</td>\n",
       "      <td>NaN</td>\n",
       "      <td>2004</td>\n",
       "      <td>1</td>\n",
       "      <td>False</td>\n",
       "    </tr>\n",
       "    <tr>\n",
       "      <th>1</th>\n",
       "      <td>International Research &amp; Exchanges Board (IREX...</td>\n",
       "      <td>Jan 7, 2004</td>\n",
       "      <td>Full-time Community Connections Intern (paid i...</td>\n",
       "      <td>International Research &amp; Exchanges Board (IREX)</td>\n",
       "      <td>NaN</td>\n",
       "      <td>NaN</td>\n",
       "      <td>NaN</td>\n",
       "      <td>NaN</td>\n",
       "      <td>NaN</td>\n",
       "      <td>3 months</td>\n",
       "      <td>IREX Armenia Main Office; Yerevan, Armenia \\r\\...</td>\n",
       "      <td>NaN</td>\n",
       "      <td>NaN</td>\n",
       "      <td>- Bachelor's Degree; Master's is preferred;\\r\\...</td>\n",
       "      <td>NaN</td>\n",
       "      <td>Please submit a cover letter and resume to:\\r\\...</td>\n",
       "      <td>NaN</td>\n",
       "      <td>12 January 2004</td>\n",
       "      <td>NaN</td>\n",
       "      <td>The International Research &amp; Exchanges Board (...</td>\n",
       "      <td>NaN</td>\n",
       "      <td>2004</td>\n",
       "      <td>1</td>\n",
       "      <td>False</td>\n",
       "    </tr>\n",
       "    <tr>\n",
       "      <th>2</th>\n",
       "      <td>Caucasus Environmental NGO Network (CENN)\\r\\nJ...</td>\n",
       "      <td>Jan 7, 2004</td>\n",
       "      <td>Country Coordinator</td>\n",
       "      <td>Caucasus Environmental NGO Network (CENN)</td>\n",
       "      <td>NaN</td>\n",
       "      <td>NaN</td>\n",
       "      <td>NaN</td>\n",
       "      <td>NaN</td>\n",
       "      <td>NaN</td>\n",
       "      <td>Renewable annual contract\\r\\nPOSITION</td>\n",
       "      <td>Yerevan, Armenia</td>\n",
       "      <td>Public outreach and strengthening of a growing...</td>\n",
       "      <td>- Working with the Country Director to provide...</td>\n",
       "      <td>- Degree in environmentally related field, or ...</td>\n",
       "      <td>NaN</td>\n",
       "      <td>Please send resume or CV toursula.kazarian@......</td>\n",
       "      <td>NaN</td>\n",
       "      <td>20 January 2004\\r\\nSTART DATE:  February 2004</td>\n",
       "      <td>NaN</td>\n",
       "      <td>The Caucasus Environmental NGO Network is a\\r\\...</td>\n",
       "      <td>NaN</td>\n",
       "      <td>2004</td>\n",
       "      <td>1</td>\n",
       "      <td>False</td>\n",
       "    </tr>\n",
       "    <tr>\n",
       "      <th>3</th>\n",
       "      <td>Manoff Group\\r\\nJOB TITLE:  BCC Specialist\\r\\n...</td>\n",
       "      <td>Jan 7, 2004</td>\n",
       "      <td>BCC Specialist</td>\n",
       "      <td>Manoff Group</td>\n",
       "      <td>NaN</td>\n",
       "      <td>NaN</td>\n",
       "      <td>NaN</td>\n",
       "      <td>NaN</td>\n",
       "      <td>NaN</td>\n",
       "      <td>NaN</td>\n",
       "      <td>Manila, Philippines</td>\n",
       "      <td>The LEAD (Local Enhancement and Development fo...</td>\n",
       "      <td>- Identify gaps in knowledge and overseeing in...</td>\n",
       "      <td>- Advanced degree in public health, social sci...</td>\n",
       "      <td>NaN</td>\n",
       "      <td>Please send cover letter and resume to Amy\\r\\n...</td>\n",
       "      <td>NaN</td>\n",
       "      <td>23 January 2004\\r\\nSTART DATE:  Immediate</td>\n",
       "      <td>NaN</td>\n",
       "      <td>NaN</td>\n",
       "      <td>NaN</td>\n",
       "      <td>2004</td>\n",
       "      <td>1</td>\n",
       "      <td>False</td>\n",
       "    </tr>\n",
       "    <tr>\n",
       "      <th>4</th>\n",
       "      <td>Yerevan Brandy Company\\r\\nJOB TITLE:  Software...</td>\n",
       "      <td>Jan 10, 2004</td>\n",
       "      <td>Software Developer</td>\n",
       "      <td>Yerevan Brandy Company</td>\n",
       "      <td>NaN</td>\n",
       "      <td>NaN</td>\n",
       "      <td>NaN</td>\n",
       "      <td>NaN</td>\n",
       "      <td>NaN</td>\n",
       "      <td>NaN</td>\n",
       "      <td>Yerevan, Armenia</td>\n",
       "      <td>NaN</td>\n",
       "      <td>- Rendering technical assistance to Database M...</td>\n",
       "      <td>- University degree; economical background is ...</td>\n",
       "      <td>NaN</td>\n",
       "      <td>Successful candidates should submit\\r\\n- CV; \\...</td>\n",
       "      <td>NaN</td>\n",
       "      <td>20 January 2004, 18:00</td>\n",
       "      <td>NaN</td>\n",
       "      <td>NaN</td>\n",
       "      <td>NaN</td>\n",
       "      <td>2004</td>\n",
       "      <td>1</td>\n",
       "      <td>True</td>\n",
       "    </tr>\n",
       "    <tr>\n",
       "      <th>...</th>\n",
       "      <td>...</td>\n",
       "      <td>...</td>\n",
       "      <td>...</td>\n",
       "      <td>...</td>\n",
       "      <td>...</td>\n",
       "      <td>...</td>\n",
       "      <td>...</td>\n",
       "      <td>...</td>\n",
       "      <td>...</td>\n",
       "      <td>...</td>\n",
       "      <td>...</td>\n",
       "      <td>...</td>\n",
       "      <td>...</td>\n",
       "      <td>...</td>\n",
       "      <td>...</td>\n",
       "      <td>...</td>\n",
       "      <td>...</td>\n",
       "      <td>...</td>\n",
       "      <td>...</td>\n",
       "      <td>...</td>\n",
       "      <td>...</td>\n",
       "      <td>...</td>\n",
       "      <td>...</td>\n",
       "      <td>...</td>\n",
       "    </tr>\n",
       "    <tr>\n",
       "      <th>18996</th>\n",
       "      <td>Technolinguistics NGO\\r\\n\\r\\n\\r\\nTITLE:  Senio...</td>\n",
       "      <td>Dec 28, 2015</td>\n",
       "      <td>Senior Creative UX/ UI Designer</td>\n",
       "      <td>Technolinguistics NGO</td>\n",
       "      <td>NaN</td>\n",
       "      <td>Full-time</td>\n",
       "      <td>NaN</td>\n",
       "      <td>NaN</td>\n",
       "      <td>NaN</td>\n",
       "      <td>Long-term</td>\n",
       "      <td>Yerevan, Armenia</td>\n",
       "      <td>A tech startup of Technolinguistics based in N...</td>\n",
       "      <td>- Work closely with product and business teams...</td>\n",
       "      <td>- At least 5 years of experience in Interface/...</td>\n",
       "      <td>Competitive</td>\n",
       "      <td>To apply for this position, please send your\\r...</td>\n",
       "      <td>29 December 2015</td>\n",
       "      <td>28 January 2016</td>\n",
       "      <td>NaN</td>\n",
       "      <td>As a company Technolinguistics has a mandate t...</td>\n",
       "      <td>NaN</td>\n",
       "      <td>2015</td>\n",
       "      <td>12</td>\n",
       "      <td>False</td>\n",
       "    </tr>\n",
       "    <tr>\n",
       "      <th>18997</th>\n",
       "      <td>\"Coca-Cola Hellenic Bottling Company Armenia\" ...</td>\n",
       "      <td>Dec 30, 2015</td>\n",
       "      <td>Category Development Manager</td>\n",
       "      <td>\"Coca-Cola Hellenic Bottling Company Armenia\" ...</td>\n",
       "      <td>NaN</td>\n",
       "      <td>Full-time</td>\n",
       "      <td>All interested professionals.</td>\n",
       "      <td>NaN</td>\n",
       "      <td>ASAP</td>\n",
       "      <td>Long-term with a probation period of 3 months.</td>\n",
       "      <td>Yerevan, Armenia</td>\n",
       "      <td>NaN</td>\n",
       "      <td>- Establish and manage Category Management dev...</td>\n",
       "      <td>- University degree, ideally business related;...</td>\n",
       "      <td>NaN</td>\n",
       "      <td>All interested candidates are kindly requested...</td>\n",
       "      <td>30 December 2015</td>\n",
       "      <td>20 January 2016</td>\n",
       "      <td>NaN</td>\n",
       "      <td>NaN</td>\n",
       "      <td>NaN</td>\n",
       "      <td>2015</td>\n",
       "      <td>12</td>\n",
       "      <td>False</td>\n",
       "    </tr>\n",
       "    <tr>\n",
       "      <th>18998</th>\n",
       "      <td>\"Coca-Cola Hellenic Bottling Company Armenia\" ...</td>\n",
       "      <td>Dec 30, 2015</td>\n",
       "      <td>Operational Marketing Manager</td>\n",
       "      <td>\"Coca-Cola Hellenic Bottling Company Armenia\" ...</td>\n",
       "      <td>NaN</td>\n",
       "      <td>Full-time</td>\n",
       "      <td>All interested professionals.</td>\n",
       "      <td>NaN</td>\n",
       "      <td>ASAP</td>\n",
       "      <td>Long-term with a probation period of 3 months.</td>\n",
       "      <td>Yerevan, Armenia</td>\n",
       "      <td>NaN</td>\n",
       "      <td>- Develop, establish and maintain marketing st...</td>\n",
       "      <td>- Degree in Business, Marketing or a related f...</td>\n",
       "      <td>NaN</td>\n",
       "      <td>All interested candidates are kindly requested...</td>\n",
       "      <td>30 December 2015</td>\n",
       "      <td>20 January 2016</td>\n",
       "      <td>NaN</td>\n",
       "      <td>NaN</td>\n",
       "      <td>NaN</td>\n",
       "      <td>2015</td>\n",
       "      <td>12</td>\n",
       "      <td>False</td>\n",
       "    </tr>\n",
       "    <tr>\n",
       "      <th>18999</th>\n",
       "      <td>San Lazzaro   LLC\\r\\n\\r\\n\\r\\nTITLE:  Head of O...</td>\n",
       "      <td>Dec 30, 2015</td>\n",
       "      <td>Head of Online Sales Department</td>\n",
       "      <td>San Lazzaro   LLC</td>\n",
       "      <td>NaN</td>\n",
       "      <td>NaN</td>\n",
       "      <td>NaN</td>\n",
       "      <td>NaN</td>\n",
       "      <td>NaN</td>\n",
       "      <td>Long-term</td>\n",
       "      <td>Yerevan, Armenia</td>\n",
       "      <td>San Lazzaro LLC is looking for a well-experien...</td>\n",
       "      <td>- Handle the project activites of the online s...</td>\n",
       "      <td>- At least 1 year of experience in online sale...</td>\n",
       "      <td>Highly competitive</td>\n",
       "      <td>Interested candidates can send their CVs to:\\r...</td>\n",
       "      <td>30 December 2015</td>\n",
       "      <td>29 January 2016</td>\n",
       "      <td>NaN</td>\n",
       "      <td>San Lazzaro LLC works with several internation...</td>\n",
       "      <td>NaN</td>\n",
       "      <td>2015</td>\n",
       "      <td>12</td>\n",
       "      <td>False</td>\n",
       "    </tr>\n",
       "    <tr>\n",
       "      <th>19000</th>\n",
       "      <td>\"Kamurj\" UCO CJSC\\r\\n\\r\\n\\r\\nTITLE:  Lawyer in...</td>\n",
       "      <td>Dec 30, 2015</td>\n",
       "      <td>Lawyer in Legal Department</td>\n",
       "      <td>\"Kamurj\" UCO CJSC</td>\n",
       "      <td>NaN</td>\n",
       "      <td>Full-time</td>\n",
       "      <td>NaN</td>\n",
       "      <td>NaN</td>\n",
       "      <td>NaN</td>\n",
       "      <td>Indefinite</td>\n",
       "      <td>Yerevan, Armenia</td>\n",
       "      <td>\"Kamurj\" UCO CJSC is looking for a Lawyer in L...</td>\n",
       "      <td>- Properly provide internal legal services of ...</td>\n",
       "      <td>- Higher legal education; Master's degree is a...</td>\n",
       "      <td>NaN</td>\n",
       "      <td>All qualified applicants are encouraged to\\r\\n...</td>\n",
       "      <td>30 December 2015</td>\n",
       "      <td>20 January 2016</td>\n",
       "      <td>NaN</td>\n",
       "      <td>\"Kamurj\" UCO CJSC is providing micro and small...</td>\n",
       "      <td>NaN</td>\n",
       "      <td>2015</td>\n",
       "      <td>12</td>\n",
       "      <td>False</td>\n",
       "    </tr>\n",
       "  </tbody>\n",
       "</table>\n",
       "<p>19001 rows × 24 columns</p>\n",
       "</div>"
      ],
      "text/plain": [
       "                                                 jobpost          date  \\\n",
       "0      AMERIA Investment Consulting Company\\r\\nJOB TI...   Jan 5, 2004   \n",
       "1      International Research & Exchanges Board (IREX...   Jan 7, 2004   \n",
       "2      Caucasus Environmental NGO Network (CENN)\\r\\nJ...   Jan 7, 2004   \n",
       "3      Manoff Group\\r\\nJOB TITLE:  BCC Specialist\\r\\n...   Jan 7, 2004   \n",
       "4      Yerevan Brandy Company\\r\\nJOB TITLE:  Software...  Jan 10, 2004   \n",
       "...                                                  ...           ...   \n",
       "18996  Technolinguistics NGO\\r\\n\\r\\n\\r\\nTITLE:  Senio...  Dec 28, 2015   \n",
       "18997  \"Coca-Cola Hellenic Bottling Company Armenia\" ...  Dec 30, 2015   \n",
       "18998  \"Coca-Cola Hellenic Bottling Company Armenia\" ...  Dec 30, 2015   \n",
       "18999  San Lazzaro   LLC\\r\\n\\r\\n\\r\\nTITLE:  Head of O...  Dec 30, 2015   \n",
       "19000  \"Kamurj\" UCO CJSC\\r\\n\\r\\n\\r\\nTITLE:  Lawyer in...  Dec 30, 2015   \n",
       "\n",
       "                                                   Title  \\\n",
       "0                                Chief Financial Officer   \n",
       "1      Full-time Community Connections Intern (paid i...   \n",
       "2                                    Country Coordinator   \n",
       "3                                         BCC Specialist   \n",
       "4                                     Software Developer   \n",
       "...                                                  ...   \n",
       "18996                    Senior Creative UX/ UI Designer   \n",
       "18997                       Category Development Manager   \n",
       "18998                      Operational Marketing Manager   \n",
       "18999                    Head of Online Sales Department   \n",
       "19000                         Lawyer in Legal Department   \n",
       "\n",
       "                                                 Company AnnouncementCode  \\\n",
       "0                   AMERIA Investment Consulting Company              NaN   \n",
       "1        International Research & Exchanges Board (IREX)              NaN   \n",
       "2              Caucasus Environmental NGO Network (CENN)              NaN   \n",
       "3                                           Manoff Group              NaN   \n",
       "4                                 Yerevan Brandy Company              NaN   \n",
       "...                                                  ...              ...   \n",
       "18996                              Technolinguistics NGO              NaN   \n",
       "18997  \"Coca-Cola Hellenic Bottling Company Armenia\" ...              NaN   \n",
       "18998  \"Coca-Cola Hellenic Bottling Company Armenia\" ...              NaN   \n",
       "18999                                  San Lazzaro   LLC              NaN   \n",
       "19000                                  \"Kamurj\" UCO CJSC              NaN   \n",
       "\n",
       "            Term                    Eligibility Audience StartDate  \\\n",
       "0            NaN                            NaN      NaN       NaN   \n",
       "1            NaN                            NaN      NaN       NaN   \n",
       "2            NaN                            NaN      NaN       NaN   \n",
       "3            NaN                            NaN      NaN       NaN   \n",
       "4            NaN                            NaN      NaN       NaN   \n",
       "...          ...                            ...      ...       ...   \n",
       "18996  Full-time                            NaN      NaN       NaN   \n",
       "18997  Full-time  All interested professionals.      NaN      ASAP   \n",
       "18998  Full-time  All interested professionals.      NaN      ASAP   \n",
       "18999        NaN                            NaN      NaN       NaN   \n",
       "19000  Full-time                            NaN      NaN       NaN   \n",
       "\n",
       "                                             Duration  \\\n",
       "0                                                 NaN   \n",
       "1                                            3 months   \n",
       "2               Renewable annual contract\\r\\nPOSITION   \n",
       "3                                                 NaN   \n",
       "4                                                 NaN   \n",
       "...                                               ...   \n",
       "18996                                       Long-term   \n",
       "18997  Long-term with a probation period of 3 months.   \n",
       "18998  Long-term with a probation period of 3 months.   \n",
       "18999                                       Long-term   \n",
       "19000                                      Indefinite   \n",
       "\n",
       "                                                Location  \\\n",
       "0                                       Yerevan, Armenia   \n",
       "1      IREX Armenia Main Office; Yerevan, Armenia \\r\\...   \n",
       "2                                       Yerevan, Armenia   \n",
       "3                                    Manila, Philippines   \n",
       "4                                       Yerevan, Armenia   \n",
       "...                                                  ...   \n",
       "18996                                   Yerevan, Armenia   \n",
       "18997                                   Yerevan, Armenia   \n",
       "18998                                   Yerevan, Armenia   \n",
       "18999                                   Yerevan, Armenia   \n",
       "19000                                   Yerevan, Armenia   \n",
       "\n",
       "                                          JobDescription  \\\n",
       "0      AMERIA Investment Consulting Company is seekin...   \n",
       "1                                                    NaN   \n",
       "2      Public outreach and strengthening of a growing...   \n",
       "3      The LEAD (Local Enhancement and Development fo...   \n",
       "4                                                    NaN   \n",
       "...                                                  ...   \n",
       "18996  A tech startup of Technolinguistics based in N...   \n",
       "18997                                                NaN   \n",
       "18998                                                NaN   \n",
       "18999  San Lazzaro LLC is looking for a well-experien...   \n",
       "19000  \"Kamurj\" UCO CJSC is looking for a Lawyer in L...   \n",
       "\n",
       "                                           JobRequirment  \\\n",
       "0      - Supervises financial management and administ...   \n",
       "1                                                    NaN   \n",
       "2      - Working with the Country Director to provide...   \n",
       "3      - Identify gaps in knowledge and overseeing in...   \n",
       "4      - Rendering technical assistance to Database M...   \n",
       "...                                                  ...   \n",
       "18996  - Work closely with product and business teams...   \n",
       "18997  - Establish and manage Category Management dev...   \n",
       "18998  - Develop, establish and maintain marketing st...   \n",
       "18999  - Handle the project activites of the online s...   \n",
       "19000  - Properly provide internal legal services of ...   \n",
       "\n",
       "                                            RequiredQual              Salary  \\\n",
       "0      To perform this job successfully, an\\r\\nindivi...                 NaN   \n",
       "1      - Bachelor's Degree; Master's is preferred;\\r\\...                 NaN   \n",
       "2      - Degree in environmentally related field, or ...                 NaN   \n",
       "3      - Advanced degree in public health, social sci...                 NaN   \n",
       "4      - University degree; economical background is ...                 NaN   \n",
       "...                                                  ...                 ...   \n",
       "18996  - At least 5 years of experience in Interface/...         Competitive   \n",
       "18997  - University degree, ideally business related;...                 NaN   \n",
       "18998  - Degree in Business, Marketing or a related f...                 NaN   \n",
       "18999  - At least 1 year of experience in online sale...  Highly competitive   \n",
       "19000  - Higher legal education; Master's degree is a...                 NaN   \n",
       "\n",
       "                                            ApplicationP       OpeningDate  \\\n",
       "0      To apply for this position, please submit a\\r\\...               NaN   \n",
       "1      Please submit a cover letter and resume to:\\r\\...               NaN   \n",
       "2      Please send resume or CV toursula.kazarian@......               NaN   \n",
       "3      Please send cover letter and resume to Amy\\r\\n...               NaN   \n",
       "4      Successful candidates should submit\\r\\n- CV; \\...               NaN   \n",
       "...                                                  ...               ...   \n",
       "18996  To apply for this position, please send your\\r...  29 December 2015   \n",
       "18997  All interested candidates are kindly requested...  30 December 2015   \n",
       "18998  All interested candidates are kindly requested...  30 December 2015   \n",
       "18999  Interested candidates can send their CVs to:\\r...  30 December 2015   \n",
       "19000  All qualified applicants are encouraged to\\r\\n...  30 December 2015   \n",
       "\n",
       "                                            Deadline Notes  \\\n",
       "0                                    26 January 2004   NaN   \n",
       "1                                    12 January 2004   NaN   \n",
       "2      20 January 2004\\r\\nSTART DATE:  February 2004   NaN   \n",
       "3          23 January 2004\\r\\nSTART DATE:  Immediate   NaN   \n",
       "4                             20 January 2004, 18:00   NaN   \n",
       "...                                              ...   ...   \n",
       "18996                                28 January 2016   NaN   \n",
       "18997                                20 January 2016   NaN   \n",
       "18998                                20 January 2016   NaN   \n",
       "18999                                29 January 2016   NaN   \n",
       "19000                                20 January 2016   NaN   \n",
       "\n",
       "                                                  AboutC Attach  Year  Month  \\\n",
       "0                                                    NaN    NaN  2004      1   \n",
       "1      The International Research & Exchanges Board (...    NaN  2004      1   \n",
       "2      The Caucasus Environmental NGO Network is a\\r\\...    NaN  2004      1   \n",
       "3                                                    NaN    NaN  2004      1   \n",
       "4                                                    NaN    NaN  2004      1   \n",
       "...                                                  ...    ...   ...    ...   \n",
       "18996  As a company Technolinguistics has a mandate t...    NaN  2015     12   \n",
       "18997                                                NaN    NaN  2015     12   \n",
       "18998                                                NaN    NaN  2015     12   \n",
       "18999  San Lazzaro LLC works with several internation...    NaN  2015     12   \n",
       "19000  \"Kamurj\" UCO CJSC is providing micro and small...    NaN  2015     12   \n",
       "\n",
       "          IT  \n",
       "0      False  \n",
       "1      False  \n",
       "2      False  \n",
       "3      False  \n",
       "4       True  \n",
       "...      ...  \n",
       "18996  False  \n",
       "18997  False  \n",
       "18998  False  \n",
       "18999  False  \n",
       "19000  False  \n",
       "\n",
       "[19001 rows x 24 columns]"
      ]
     },
     "execution_count": 3,
     "metadata": {},
     "output_type": "execute_result"
    }
   ],
   "source": [
    "df1"
   ]
  },
  {
   "cell_type": "code",
   "execution_count": 4,
   "metadata": {},
   "outputs": [
    {
     "data": {
      "text/plain": [
       "(19001, 24)"
      ]
     },
     "execution_count": 4,
     "metadata": {},
     "output_type": "execute_result"
    }
   ],
   "source": [
    "df1.shape"
   ]
  },
  {
   "cell_type": "code",
   "execution_count": 5,
   "metadata": {},
   "outputs": [
    {
     "data": {
      "text/plain": [
       "Index(['jobpost', 'date', 'Title', 'Company', 'AnnouncementCode', 'Term',\n",
       "       'Eligibility', 'Audience', 'StartDate', 'Duration', 'Location',\n",
       "       'JobDescription', 'JobRequirment', 'RequiredQual', 'Salary',\n",
       "       'ApplicationP', 'OpeningDate', 'Deadline', 'Notes', 'AboutC', 'Attach',\n",
       "       'Year', 'Month', 'IT'],\n",
       "      dtype='object')"
      ]
     },
     "execution_count": 5,
     "metadata": {},
     "output_type": "execute_result"
    }
   ],
   "source": [
    "df1.columns"
   ]
  },
  {
   "cell_type": "code",
   "execution_count": 6,
   "metadata": {},
   "outputs": [
    {
     "data": {
      "text/plain": [
       "jobpost                 0\n",
       "date                    0\n",
       "Title                  28\n",
       "Company                 7\n",
       "AnnouncementCode    17793\n",
       "Term                11325\n",
       "Eligibility         14071\n",
       "Audience            18361\n",
       "StartDate            9326\n",
       "Duration             8203\n",
       "Location               32\n",
       "JobDescription       3892\n",
       "JobRequirment        2522\n",
       "RequiredQual          484\n",
       "Salary               9379\n",
       "ApplicationP           60\n",
       "OpeningDate           706\n",
       "Deadline               65\n",
       "Notes               16790\n",
       "AboutC               6531\n",
       "Attach              17442\n",
       "Year                    0\n",
       "Month                   0\n",
       "IT                      0\n",
       "dtype: int64"
      ]
     },
     "execution_count": 6,
     "metadata": {},
     "output_type": "execute_result"
    }
   ],
   "source": [
    "df1.isnull().sum()"
   ]
  },
  {
   "cell_type": "code",
   "execution_count": 7,
   "metadata": {},
   "outputs": [
    {
     "data": {
      "text/plain": [
       "<AxesSubplot:>"
      ]
     },
     "execution_count": 7,
     "metadata": {},
     "output_type": "execute_result"
    },
    {
     "data": {
      "image/png": "[encoded data removed]",
      "text/plain": [
       "<Figure size 1728x720 with 3 Axes>"
      ]
     },
     "metadata": {
      "needs_background": "light"
     },
     "output_type": "display_data"
    }
   ],
   "source": [
    "import warnings # current version of seaborn generates a bunch of warnings that we'll ignore\n",
    "warnings.filterwarnings(\"ignore\")\n",
    "import missingno as msno\n",
    "msno.bar(df1)\n"
   ]
  },
  {
   "cell_type": "code",
   "execution_count": 8,
   "metadata": {},
   "outputs": [],
   "source": [
    "df1 = df1[df1['IT'] == True]"
   ]
  },
  {
   "cell_type": "code",
   "execution_count": 9,
   "metadata": {},
   "outputs": [
    {
     "data": {
      "text/plain": [
       "(3759, 24)"
      ]
     },
     "execution_count": 9,
     "metadata": {},
     "output_type": "execute_result"
    }
   ],
   "source": [
    "df1.shape"
   ]
  },
  {
   "cell_type": "code",
   "execution_count": 10,
   "metadata": {},
   "outputs": [],
   "source": [
    "col = ['RequiredQual', 'Eligibility', 'Title', 'JobDescription', 'JobRequirment']\n",
    "df1 = df1[col]"
   ]
  },
  {
   "cell_type": "code",
   "execution_count": 11,
   "metadata": {},
   "outputs": [
    {
     "data": {
      "text/plain": [
       "RequiredQual       0.159617\n",
       "Eligibility       84.304336\n",
       "Title              0.000000\n",
       "JobDescription    10.667731\n",
       "JobRequirment     15.429636\n",
       "dtype: float64"
      ]
     },
     "execution_count": 11,
     "metadata": {},
     "output_type": "execute_result"
    }
   ],
   "source": [
    "df1.isnull().sum()/3759 * 100"
   ]
  },
  {
   "cell_type": "code",
   "execution_count": 12,
   "metadata": {},
   "outputs": [
    {
     "data": {
      "text/plain": [
       "Software Developer                    134\n",
       "Web Developer                         101\n",
       "Java Developer                         88\n",
       "Graphic Designer                       75\n",
       "Senior Java Developer                  69\n",
       "                                     ... \n",
       "Web-Designer                            1\n",
       "Software/ Senior Software Engineer      1\n",
       "Mechanical Design Engineer              1\n",
       "Software Intern Software                1\n",
       "Software Developer 1                    1\n",
       "Name: Title, Length: 1272, dtype: int64"
      ]
     },
     "execution_count": 12,
     "metadata": {},
     "output_type": "execute_result"
    }
   ],
   "source": [
    "df1['Title'].value_counts()"
   ]
  },
  {
   "cell_type": "code",
   "execution_count": 13,
   "metadata": {},
   "outputs": [
    {
     "data": {
      "text/plain": [
       "- Participate in application design;\\r\\n- Provide necessary technical and design documentation;\\r\\n- Communicate effectively with local management and external team\\r\\nmembers;\\r\\n- Develop features according to technical specifications.                                                                                                                                                                                                                                                                                                                                                                                                                                                                                                                                                                51\n",
       "Research, design and implement efficient\\r\\nalgorithmic applications for physical verification of complex ICs.                                                                                                                                                                                                                                                                                                                                                                                                                                                                                                                                                                                                                                                                                               29\n",
       "- Develop software according to requirements;\\r\\n- Take part in gathering requirements;\\r\\n- Take part in system architecture development;\\r\\n- Participate in planning;\\r\\n- Complete work according to deadlines;\\r\\n- Take part in mentoring other developers professional skills.                                                                                                                                                                                                                                                                                                                                                                                                                                                                                                                        23\n",
       "- Gather and produce requirements and designs;\\r\\n- Write and test code for the required product;\\r\\n- Accurately plan software development activities and follow established\\r\\nprocesses;\\r\\n- Share knowledge, mentor peers, listen and hear team members view\\r\\npoints and provide a fair evaluation of differing opinions;\\r\\n- Work productively as part of a software development team;\\r\\n- Communicate effectively with management and with team members;\\r\\n- Keep commitments;\\r\\n- Have a command of current technology;\\r\\n- Actively participate in discussions regarding technical issues.                                                                                                                                                                                                   19\n",
       "- Develop software according to requirements;\\r\\n- Participate in tasks estimation;\\r\\n- Complete work according to deadlines;\\r\\n- Take part in mentoring other developers professional skills.                                                                                                                                                                                                                                                                                                                                                                                                                                                                                                                                                                                                             17\n",
       "                                                                                                                                                                                                                                                                                                                                                                                                                                                                                                                                                                                                                                                                                                                                                                                                             ..\n",
       "- Specify and develop new GUI components and dialogs for the\\r\\nconfiguration of Sonics IP;\\r\\n- Support existing GUI components and dialogs for the configuration of\\r\\nSonics IP;\\r\\n- Code using Eclipse RCP and Plug-in Development techniques;\\r\\n- Create technical and design documentation;\\r\\n- Perform other tasks as assigned.                                                                                                                                                                                                                                                                                                                                                                                                                                                                     1\n",
       "- Analyze new software requirements;\\r\\n- Perform object-oriented analysis, design and testing;\\r\\nReceivable includes: technical requirements documents, use cases and\\r\\ndiagrams, class diagrams, activity diagrams, package diagram and project\\r\\nestimates.                                                                                                                                                                                                                                                                                                                                                                                                                                                                                                                                             1\n",
       "- Organize seminars with clients to support them for  preparing business\\r\\nplans;\\r\\n- Submit credit projects of applicants and suggest projects for\\r\\napproval;\\r\\n- Prepare, sign credit and mortgage contracts as authorized person;\\r\\n- Plan, organize daily lending;\\r\\n- Check reliability of each collateral estimation;\\r\\n- Check all required documentation for each credit project before\\r\\nlending process;\\r\\n- Keep regular contacts with clients, to organize credit repayments\\r\\naccording to schedule days;\\r\\n- Prepare weekly, quarterly and annual reports about credits extended;\\r\\n- Be responsible for correct formulation and all required\\r\\ndocumentations availability for each credit.                                                                                      1\n",
       "- Develop a code;\\r\\n- Test the developed code;\\r\\n- Participate in peer software code reviews.                                                                                                                                                                                                                                                                                                                                                                                                                                                                                                                                                                                                                                                                                                               1\n",
       "- Research international practice in bank products and services and make\\r\\nrelevant proposals;\\r\\n- Collect new product proposals and maintain their database;\\r\\n- Develop new product concepts;\\r\\n- Prepare new product development and implementation projects and submit\\r\\nthem to the Line Manager;\\r\\n- Monitor new product development and implementation projects, compile\\r\\nrelated reports to submit them to the Line Manager;\\r\\n- Submit feedback on recently implemented products to the Line Manager\\r\\nbased on their efficiency analysis and summary;\\r\\n- Coordinate and control new product development and implementation\\r\\nactivities;\\r\\n- Process bank operation-related improvement proposals and maintain a\\r\\nrelevant database;\\r\\n- Perform other tasks as may be needed.     1\n",
       "Name: JobRequirment, Length: 2317, dtype: int64"
      ]
     },
     "execution_count": 13,
     "metadata": {},
     "output_type": "execute_result"
    }
   ],
   "source": [
    "df1['JobRequirment'].value_counts()"
   ]
  },
  {
   "cell_type": "code",
   "execution_count": 14,
   "metadata": {},
   "outputs": [
    {
     "data": {
      "text/plain": [
       "Software Developer                                     134\n",
       "Web Developer                                          101\n",
       "Java Developer                                          88\n",
       "Graphic Designer                                        75\n",
       "Senior Java Developer                                   69\n",
       "Software Engineer                                       69\n",
       "PHP Developer                                           65\n",
       "Senior Software Engineer                                63\n",
       "Programmer                                              56\n",
       "IT Specialist                                           55\n",
       "Senior QA Engineer                                      43\n",
       "Senior Software Developer                               41\n",
       "Android Developer                                       37\n",
       ".NET Developer                                          36\n",
       "Senior PHP Developer                                    34\n",
       "Senior .NET Developer                                   34\n",
       "iOS Developer                                           31\n",
       "Software QA Engineer                                    29\n",
       "Database Developer                                      29\n",
       "Senior Web Developer                                    29\n",
       "Database Administrator                                  28\n",
       "Java Software Developer                                 26\n",
       "Network Administrator                                   25\n",
       "Senior Software Engineer, Deep Submicron Department     23\n",
       "Senior Android Developer                                22\n",
       "Senior iOS Developer                                    21\n",
       "C++ Software Developer                                  19\n",
       "Credit Specialist                                       18\n",
       "IT Manager                                              18\n",
       "ASP.NET Developer                                       17\n",
       "Name: Title, dtype: int64"
      ]
     },
     "execution_count": 14,
     "metadata": {},
     "output_type": "execute_result"
    }
   ],
   "source": [
    "df1['Title'].value_counts().head(30)"
   ]
  },
  {
   "cell_type": "code",
   "execution_count": 15,
   "metadata": {},
   "outputs": [],
   "source": [
    "def repl(title):\n",
    "    tokens = title.split()\n",
    "    for i,x in enumerate(tokens):\n",
    "        if x == 'Senior':\n",
    "            tokens = tokens[1:]\n",
    "        elif x == 'Junior':\n",
    "            tokens = tokens[1:]\n",
    "            \n",
    "    title2 = ' '.join(tokens)\n",
    "    return title2\n",
    "\n",
    "df1['Title'] = df1['Title'].apply(lambda x: repl(x))"
   ]
  },
  {
   "cell_type": "code",
   "execution_count": 16,
   "metadata": {},
   "outputs": [
    {
     "data": {
      "text/plain": [
       "Software Developer                                          181\n",
       "Java Developer                                              165\n",
       "Software Engineer                                           141\n",
       "Web Developer                                               132\n",
       "PHP Developer                                               103\n",
       "                                                           ... \n",
       "National Expert on Socio-Demographic Statistics               1\n",
       "SCM Engineer (SW)                                             1\n",
       "Information Technology Officer                                1\n",
       "IT Specialist (Implementation and Support of Large Scale      1\n",
       "Logic Design Engineer                                         1\n",
       "Name: Title, Length: 1126, dtype: int64"
      ]
     },
     "execution_count": 16,
     "metadata": {},
     "output_type": "execute_result"
    }
   ],
   "source": [
    "df1['Title'].value_counts()"
   ]
  },
  {
   "cell_type": "code",
   "execution_count": 17,
   "metadata": {},
   "outputs": [],
   "source": [
    "\n",
    "def repl(s):\n",
    "    if 'C++ Software Developer' in s:\n",
    "        s = s.replace('C++ Software Developer', 'C++ Developer')\n",
    "    elif ('Quality Assurance Engineer' in s) or ('Software QA Engineer' in s):\n",
    "        s = s.replace('Quality Assurance Engineer', 'QA Engineer')\n",
    "        s = s.replace('Software QA Engineer', 'QA Engineer')\n",
    "    elif '.Net Developer' in s:\n",
    "        s = s.replace('.Net Developer', '.NET Developer')\n",
    "    elif 'Java Software Developer' in s:\n",
    "        s = s.replace('Java Software Developer', 'Java Developer')\n",
    "    elif 'Senior Software Developer' in s:\n",
    "        s = s.replace('Senior Software Developer', 'Software Developer')\n",
    "    elif 'Database Administrator' in s:\n",
    "        s = s.replace('Database Administrator', 'Database Developer')\n",
    "    elif 'PHP Software Developer' in s:\n",
    "        s = s.replace('PHP Software Developer', 'PHP Developer')\n",
    "    elif '.NET Software Developer' in s:\n",
    "        s = s.replace('.NET Software Developer', '.NET Developer')\n",
    "    elif 'Java Software Engineer' in s:\n",
    "        s = s.replace('Java Software Engineer', 'Java Developer')\n",
    "    elif ('C#.NET Developer' in s) or ('C# .NET Developer' in s):\n",
    "        s = s.replace('C#.NET Developer', '.NET Developer')\n",
    "        s = s.replace('C# .NET Developer', '.NET Developer')\n",
    "    elif 'ASP.NET Developer' in s:\n",
    "        s = s.replace('ASP.NET Developer', 'Java Developer')\n",
    "    \n",
    "        \n",
    "    else:\n",
    "        pass\n",
    "    \n",
    "    return s\n",
    "\n",
    "\n",
    "\n",
    "df1['Title'] = df1['Title'].apply(lambda x: repl(x))"
   ]
  },
  {
   "cell_type": "code",
   "execution_count": 18,
   "metadata": {},
   "outputs": [
    {
     "data": {
      "text/plain": [
       "Java Developer                                                    239\n",
       "Software Developer                                                214\n",
       "Software Engineer                                                 141\n",
       "Web Developer                                                     132\n",
       ".NET Developer                                                    122\n",
       "                                                                 ... \n",
       "PHP Developer- Intern                                               1\n",
       "IT Specialist/ Manager                                              1\n",
       "Java/C++ Backend Developers                                         1\n",
       "Monitoring and Collateral Assessment Unit Specialist in Retail      1\n",
       "Logic Design Engineer                                               1\n",
       "Name: Title, Length: 1103, dtype: int64"
      ]
     },
     "execution_count": 18,
     "metadata": {},
     "output_type": "execute_result"
    }
   ],
   "source": [
    "df1['Title'].value_counts()"
   ]
  },
  {
   "cell_type": "code",
   "execution_count": 19,
   "metadata": {},
   "outputs": [
    {
     "data": {
      "text/plain": [
       "Java Developer                                   239\n",
       "Software Developer                               214\n",
       "Software Engineer                                141\n",
       "Web Developer                                    132\n",
       ".NET Developer                                   122\n",
       "PHP Developer                                    116\n",
       "QA Engineer                                      107\n",
       "Graphic Designer                                  78\n",
       "Database Developer                                69\n",
       "Android Developer                                 60\n",
       "Programmer                                        58\n",
       "IT Specialist                                     56\n",
       "iOS Developer                                     54\n",
       "C++ Developer                                     41\n",
       "Senior Developer/ Architect                       28\n",
       "Network Administrator                             27\n",
       "Software Engineer, Deep Submicron Department      26\n",
       "ASP.NET Developer                                 24\n",
       "Credit Specialist                                 18\n",
       "Frontend Developer                                18\n",
       "IT Manager                                        18\n",
       "Technical Support Specialist                      17\n",
       "Developer                                         17\n",
       "Tester/ QA Engineer                               16\n",
       "Technical Support Engineer                        15\n",
       "Embedded Software Engineer                        14\n",
       "Software Engineer, Design to Silicon Division     14\n",
       "Embedded Linux BSP Engineer                       14\n",
       "Software Architect                                13\n",
       "Software Development Manager                      13\n",
       "Flash Developer                                   13\n",
       "Junior Developer                                  12\n",
       "C Software Developer                              12\n",
       "System Administrator                              12\n",
       "Systems Administrator                             12\n",
       "QA Engineer, Validation Department                11\n",
       "Software Developer C++/C#                         11\n",
       "C/ C++ Software Engineer                          11\n",
       "Oracle Database Developer                         10\n",
       "1C Programmer                                     10\n",
       "Mobile Application Developer                      10\n",
       "System/ Network Administrator                     10\n",
       "Network Engineer                                  10\n",
       "Applications Engineer                             10\n",
       "Hardware Engineer                                  9\n",
       "iPhone Application Developer                       9\n",
       "Business Intelligence and Reporting Developer      9\n",
       "C#/ .NET Backend Developer                         9\n",
       "Graphics Designer                                  9\n",
       "IT Support Specialist                              9\n",
       "Name: Title, dtype: int64"
      ]
     },
     "execution_count": 19,
     "metadata": {},
     "output_type": "execute_result"
    }
   ],
   "source": [
    "df1['Title'].value_counts().head(50)"
   ]
  },
  {
   "cell_type": "code",
   "execution_count": 20,
   "metadata": {},
   "outputs": [
    {
     "data": {
      "text/plain": [
       "Java Developer        239\n",
       "Software Developer    214\n",
       "Software Engineer     141\n",
       "Web Developer         132\n",
       ".NET Developer        122\n",
       "PHP Developer         116\n",
       "QA Engineer           107\n",
       "Graphic Designer       78\n",
       "Database Developer     69\n",
       "Android Developer      60\n",
       "Programmer             58\n",
       "IT Specialist          56\n",
       "iOS Developer          54\n",
       "C++ Developer          41\n",
       "Name: Title, dtype: int64"
      ]
     },
     "execution_count": 20,
     "metadata": {},
     "output_type": "execute_result"
    }
   ],
   "source": [
    "classes = df1['Title'].value_counts()[:14]\n",
    "keys = classes.keys().to_list()\n",
    "\n",
    "df1 = df1[df1['Title'].isin(keys)]\n",
    "df1['Title'].value_counts()"
   ]
  },
  {
   "cell_type": "code",
   "execution_count": 21,
   "metadata": {},
   "outputs": [
    {
     "data": {
      "text/plain": [
       "(1487, 5)"
      ]
     },
     "execution_count": 21,
     "metadata": {},
     "output_type": "execute_result"
    }
   ],
   "source": [
    "df1.shape"
   ]
  },
  {
   "cell_type": "code",
   "execution_count": 22,
   "metadata": {},
   "outputs": [
    {
     "data": {
      "text/plain": [
       "RequiredQual       0.000000\n",
       "Eligibility       83.658373\n",
       "Title              0.000000\n",
       "JobDescription     8.540686\n",
       "JobRequirment     15.400134\n",
       "dtype: float64"
      ]
     },
     "execution_count": 22,
     "metadata": {},
     "output_type": "execute_result"
    }
   ],
   "source": [
    "df1.isnull().sum()/1487 * 100"
   ]
  },
  {
   "cell_type": "code",
   "execution_count": 23,
   "metadata": {},
   "outputs": [],
   "source": [
    "#dropping eligibility because more than 30% of the values are missing\n",
    "df1.drop('Eligibility' , axis=1 , inplace =True)"
   ]
  },
  {
   "cell_type": "code",
   "execution_count": 24,
   "metadata": {},
   "outputs": [
    {
     "data": {
      "text/plain": [
       "(1487, 4)"
      ]
     },
     "execution_count": 24,
     "metadata": {},
     "output_type": "execute_result"
    }
   ],
   "source": [
    "df1.shape"
   ]
  },
  {
   "cell_type": "code",
   "execution_count": 25,
   "metadata": {},
   "outputs": [
    {
     "data": {
      "text/plain": [
       "Index(['RequiredQual', 'Title', 'JobDescription', 'JobRequirment'], dtype='object')"
      ]
     },
     "execution_count": 25,
     "metadata": {},
     "output_type": "execute_result"
    }
   ],
   "source": [
    "df1.columns"
   ]
  },
  {
   "cell_type": "code",
   "execution_count": 26,
   "metadata": {},
   "outputs": [],
   "source": [
    "from sklearn import preprocessing\n",
    "le = preprocessing.LabelEncoder()\n",
    "df1['title_le'] = le.fit_transform(df1['Title'])"
   ]
  },
  {
   "cell_type": "code",
   "execution_count": 27,
   "metadata": {},
   "outputs": [
    {
     "data": {
      "text/html": [
       "<div>\n",
       "<style scoped>\n",
       "    .dataframe tbody tr th:only-of-type {\n",
       "        vertical-align: middle;\n",
       "    }\n",
       "\n",
       "    .dataframe tbody tr th {\n",
       "        vertical-align: top;\n",
       "    }\n",
       "\n",
       "    .dataframe thead th {\n",
       "        text-align: right;\n",
       "    }\n",
       "</style>\n",
       "<table border=\"1\" class=\"dataframe\">\n",
       "  <thead>\n",
       "    <tr style=\"text-align: right;\">\n",
       "      <th></th>\n",
       "      <th>RequiredQual</th>\n",
       "      <th>Title</th>\n",
       "      <th>JobDescription</th>\n",
       "      <th>JobRequirment</th>\n",
       "      <th>title_le</th>\n",
       "    </tr>\n",
       "  </thead>\n",
       "  <tbody>\n",
       "    <tr>\n",
       "      <th>4</th>\n",
       "      <td>- University degree; economical background is ...</td>\n",
       "      <td>Software Developer</td>\n",
       "      <td>NaN</td>\n",
       "      <td>- Rendering technical assistance to Database M...</td>\n",
       "      <td>10</td>\n",
       "    </tr>\n",
       "    <tr>\n",
       "      <th>19</th>\n",
       "      <td>As a GD you are creative, innovative and have\\...</td>\n",
       "      <td>Graphic Designer</td>\n",
       "      <td>The position of Graphic Designer (GD) demands ...</td>\n",
       "      <td>Graphic Designer will be responsible for every...</td>\n",
       "      <td>4</td>\n",
       "    </tr>\n",
       "    <tr>\n",
       "      <th>35</th>\n",
       "      <td>- Work experience of at least two years; \\r\\n-...</td>\n",
       "      <td>Programmer</td>\n",
       "      <td>NaN</td>\n",
       "      <td>NaN</td>\n",
       "      <td>8</td>\n",
       "    </tr>\n",
       "    <tr>\n",
       "      <th>76</th>\n",
       "      <td>- Professional background in graphic design;\\r...</td>\n",
       "      <td>Graphic Designer</td>\n",
       "      <td>Ameria CJSC is seeking qualified candidates fo...</td>\n",
       "      <td>- Design of company production packaging;\\r\\n-...</td>\n",
       "      <td>4</td>\n",
       "    </tr>\n",
       "    <tr>\n",
       "      <th>92</th>\n",
       "      <td>- Degree in Computer Science, Information Tech...</td>\n",
       "      <td>Software Developer</td>\n",
       "      <td>Synergy International Systems, Inc./Armenia se...</td>\n",
       "      <td>Specific tasks and key responsibilities includ...</td>\n",
       "      <td>10</td>\n",
       "    </tr>\n",
       "    <tr>\n",
       "      <th>...</th>\n",
       "      <td>...</td>\n",
       "      <td>...</td>\n",
       "      <td>...</td>\n",
       "      <td>...</td>\n",
       "      <td>...</td>\n",
       "    </tr>\n",
       "    <tr>\n",
       "      <th>18965</th>\n",
       "      <td>- In-depth knowledge of modern HTML, CSS, Java...</td>\n",
       "      <td>Web Developer</td>\n",
       "      <td>Dasaran.am is looking for a Senior Web Develop...</td>\n",
       "      <td>- Write a well designed, testable, efficient c...</td>\n",
       "      <td>12</td>\n",
       "    </tr>\n",
       "    <tr>\n",
       "      <th>18968</th>\n",
       "      <td>- In-depth knowledge of modern HTML, CSS, Java...</td>\n",
       "      <td>Web Developer</td>\n",
       "      <td>Dasaran.am is looking for a Senior Web Develop...</td>\n",
       "      <td>- Write a well designed, testable, efficient c...</td>\n",
       "      <td>12</td>\n",
       "    </tr>\n",
       "    <tr>\n",
       "      <th>18973</th>\n",
       "      <td>- Strong Java skills;\\r\\n- Excellence in J2EE,...</td>\n",
       "      <td>Java Developer</td>\n",
       "      <td>In this role the incumbent will be responsible...</td>\n",
       "      <td>- Responsible for developing and building high...</td>\n",
       "      <td>6</td>\n",
       "    </tr>\n",
       "    <tr>\n",
       "      <th>18990</th>\n",
       "      <td>- Master's degree in IT, Engineering or a rela...</td>\n",
       "      <td>Java Developer</td>\n",
       "      <td>NASDAQ OMX Armenia is seeking an energetic Jav...</td>\n",
       "      <td>- Responsible for developing and building high...</td>\n",
       "      <td>6</td>\n",
       "    </tr>\n",
       "    <tr>\n",
       "      <th>18992</th>\n",
       "      <td>- 2 - 5 years of experience in software develo...</td>\n",
       "      <td>.NET Developer</td>\n",
       "      <td>The incumbent will develop software applicatio...</td>\n",
       "      <td>- Participate in all the steps of the software...</td>\n",
       "      <td>0</td>\n",
       "    </tr>\n",
       "  </tbody>\n",
       "</table>\n",
       "<p>1487 rows × 5 columns</p>\n",
       "</div>"
      ],
      "text/plain": [
       "                                            RequiredQual               Title  \\\n",
       "4      - University degree; economical background is ...  Software Developer   \n",
       "19     As a GD you are creative, innovative and have\\...    Graphic Designer   \n",
       "35     - Work experience of at least two years; \\r\\n-...          Programmer   \n",
       "76     - Professional background in graphic design;\\r...    Graphic Designer   \n",
       "92     - Degree in Computer Science, Information Tech...  Software Developer   \n",
       "...                                                  ...                 ...   \n",
       "18965  - In-depth knowledge of modern HTML, CSS, Java...       Web Developer   \n",
       "18968  - In-depth knowledge of modern HTML, CSS, Java...       Web Developer   \n",
       "18973  - Strong Java skills;\\r\\n- Excellence in J2EE,...      Java Developer   \n",
       "18990  - Master's degree in IT, Engineering or a rela...      Java Developer   \n",
       "18992  - 2 - 5 years of experience in software develo...      .NET Developer   \n",
       "\n",
       "                                          JobDescription  \\\n",
       "4                                                    NaN   \n",
       "19     The position of Graphic Designer (GD) demands ...   \n",
       "35                                                   NaN   \n",
       "76     Ameria CJSC is seeking qualified candidates fo...   \n",
       "92     Synergy International Systems, Inc./Armenia se...   \n",
       "...                                                  ...   \n",
       "18965  Dasaran.am is looking for a Senior Web Develop...   \n",
       "18968  Dasaran.am is looking for a Senior Web Develop...   \n",
       "18973  In this role the incumbent will be responsible...   \n",
       "18990  NASDAQ OMX Armenia is seeking an energetic Jav...   \n",
       "18992  The incumbent will develop software applicatio...   \n",
       "\n",
       "                                           JobRequirment  title_le  \n",
       "4      - Rendering technical assistance to Database M...        10  \n",
       "19     Graphic Designer will be responsible for every...         4  \n",
       "35                                                   NaN         8  \n",
       "76     - Design of company production packaging;\\r\\n-...         4  \n",
       "92     Specific tasks and key responsibilities includ...        10  \n",
       "...                                                  ...       ...  \n",
       "18965  - Write a well designed, testable, efficient c...        12  \n",
       "18968  - Write a well designed, testable, efficient c...        12  \n",
       "18973  - Responsible for developing and building high...         6  \n",
       "18990  - Responsible for developing and building high...         6  \n",
       "18992  - Participate in all the steps of the software...         0  \n",
       "\n",
       "[1487 rows x 5 columns]"
      ]
     },
     "execution_count": 27,
     "metadata": {},
     "output_type": "execute_result"
    }
   ],
   "source": [
    "df1"
   ]
  },
  {
   "cell_type": "code",
   "execution_count": 28,
   "metadata": {},
   "outputs": [],
   "source": [
    "from sklearn.feature_extraction import DictVectorizer\n",
    "from sklearn.feature_extraction.text import CountVectorizer\n",
    "from sklearn.model_selection import train_test_split\n",
    "# Input data files are available in the \"../input/\" directory.\n",
    "# For example, running this (by clicking run or pressing Shift+Enter) will list all files under the input directory\n",
    "import nltk\n",
    "from nltk.corpus import stopwords\n",
    "from nltk import word_tokenize          \n",
    "from nltk.stem import WordNetLemmatizer \n",
    "class LemmaTokenizer(object):\n",
    "    def __init__(self):\n",
    "        # lemmatize text - convert to base form \n",
    "        self.wnl = WordNetLemmatizer()\n",
    "        # creating stopwords list, to ignore lemmatizing stopwords \n",
    "        self.stopwords = stopwords.words('english')\n",
    "    def __call__(self, doc):\n",
    "        return [self.wnl.lemmatize(t) for t in word_tokenize(doc) if t not in self.stopwords]\n",
    "\n",
    "# removing new line characters, and certain hypen patterns                  \n",
    "df1['RequiredQual']=df1['RequiredQual'].apply(lambda x: x.replace('\\n', ' ').replace('\\r', '').replace('- ', ''). replace(' - ', ' to '))"
   ]
  },
  {
   "cell_type": "code",
   "execution_count": 29,
   "metadata": {},
   "outputs": [],
   "source": [
    "import nltk\n",
    "from nltk.tokenize import word_tokenize"
   ]
  },
  {
   "cell_type": "code",
   "execution_count": 30,
   "metadata": {},
   "outputs": [],
   "source": [
    "from sklearn.feature_extraction.text import TfidfVectorizer\n",
    "from sklearn.preprocessing import LabelEncoder\n",
    "# train features and labels \n",
    "y = df1['title_le']\n",
    "X = df1['RequiredQual']\n",
    "# tdif feature rep \n",
    "vectorizer = TfidfVectorizer(tokenizer=LemmaTokenizer(), stop_words='english')\n",
    "vectorizer.fit(X)\n",
    "# transoforming text to tdif features\n",
    "tfidf_matrix = vectorizer.transform(X)\n",
    "# sparse matrix to dense matrix for training\n",
    "X_tdif = tfidf_matrix.toarray()\n",
    "# encoding text labels in categories \n",
    "# enc = LabelEncoder() \n",
    "# enc.fit(y.values)\n",
    "# y_enc=enc.transform(y.values)\n",
    "\n",
    "X_train_words, X_test_words, y_train, y_test = train_test_split(X, y, test_size=0.15, random_state=10)\n",
    "\n",
    "X_train = vectorizer.transform(X_train_words)\n",
    "X_train = X_train.toarray()\n",
    "\n",
    "X_test = vectorizer.transform(X_test_words)\n",
    "X_test = X_test.toarray()\n"
   ]
  },
  {
   "cell_type": "code",
   "execution_count": 33,
   "metadata": {},
   "outputs": [],
   "source": [
    "output = le.inverse_transform([3])"
   ]
  },
  {
   "cell_type": "code",
   "execution_count": 34,
   "metadata": {},
   "outputs": [
    {
     "data": {
      "text/plain": [
       "'Database Developer'"
      ]
     },
     "execution_count": 34,
     "metadata": {},
     "output_type": "execute_result"
    }
   ],
   "source": [
    "output[0]"
   ]
  },
  {
   "cell_type": "code",
   "execution_count": 32,
   "metadata": {},
   "outputs": [
    {
     "data": {
      "text/plain": [
       "4        University degree; economical background is a ...\n",
       "19       As a GD you are creative, innovative and have ...\n",
       "35       Work experience of at least two years;  Knowle...\n",
       "76       Professional background in graphic design; Str...\n",
       "92       Degree in Computer Science, Information Techno...\n",
       "                               ...                        \n",
       "18965    In-depth knowledge of modern HTML, CSS, JavaSc...\n",
       "18968    In-depth knowledge of modern HTML, CSS, JavaSc...\n",
       "18973    Strong Java skills; Excellence in J2EE, Spring...\n",
       "18990    Master's degree in IT, Engineering or a relate...\n",
       "18992    2 5 years of experience in software developmen...\n",
       "Name: RequiredQual, Length: 1487, dtype: object"
      ]
     },
     "execution_count": 32,
     "metadata": {},
     "output_type": "execute_result"
    }
   ],
   "source": [
    "X"
   ]
  },
  {
   "cell_type": "code",
   "execution_count": null,
   "metadata": {},
   "outputs": [],
   "source": [
    "df1[['RequiredQual','Title']]"
   ]
  },
  {
   "cell_type": "code",
   "execution_count": null,
   "metadata": {},
   "outputs": [],
   "source": [
    "y"
   ]
  },
  {
   "cell_type": "code",
   "execution_count": null,
   "metadata": {},
   "outputs": [],
   "source": [
    "from sklearn.mixture import GaussianMixture\n",
    "\n",
    "from sklearn.metrics import accuracy_score, auc, roc_curve, roc_auc_score\n",
    "from sklearn.naive_bayes import GaussianNB, MultinomialNB\n",
    "from sklearn.discriminant_analysis import LinearDiscriminantAnalysis\n",
    "classifier = GaussianNB()\n",
    "classifier.fit(X_train, y_train)\n",
    "y_pred = classifier.predict(X_test)"
   ]
  },
  {
   "cell_type": "code",
   "execution_count": null,
   "metadata": {},
   "outputs": [],
   "source": [
    "from sklearn.metrics import accuracy_score\n",
    "accuracy_score(y_test, y_pred)"
   ]
  },
  {
   "cell_type": "code",
   "execution_count": null,
   "metadata": {},
   "outputs": [],
   "source": [
    "import warnings # current version of seaborn generates a bunch of warnings that we'll ignore\n",
    "warnings.filterwarnings(\"ignore\")\n",
    "import seaborn as sns\n",
    "import matplotlib.pyplot as plt\n",
    "sns.set(rc={'figure.figsize':(12,6)})\n",
    "# sns.(y_test, y_pred)\n",
    "sns.scatterplot(y_test, y_pred)\n",
    "plt.show()"
   ]
  },
  {
   "cell_type": "code",
   "execution_count": null,
   "metadata": {},
   "outputs": [],
   "source": [
    "from sklearn.linear_model import LogisticRegression\n",
    "\n",
    "logistic = LogisticRegression()\n",
    "\n",
    "logistic.fit(X_train, y_train)\n",
    "y_pred = logistic.predict(X_test)"
   ]
  },
  {
   "cell_type": "code",
   "execution_count": null,
   "metadata": {},
   "outputs": [],
   "source": [
    "from sklearn.metrics import accuracy_score\n",
    "accuracy_score(y_test, y_pred)"
   ]
  },
  {
   "cell_type": "code",
   "execution_count": null,
   "metadata": {},
   "outputs": [],
   "source": [
    "import warnings # current version of seaborn generates a bunch of warnings that we'll ignore\n",
    "warnings.filterwarnings(\"ignore\")\n",
    "import seaborn as sns\n",
    "import matplotlib.pyplot as plt\n",
    "sns.set(rc={'figure.figsize':(12,6)})\n",
    "# sns.(y_test, y_pred)\n",
    "sns.scatterplot(y_test, y_pred)\n",
    "plt.show()"
   ]
  },
  {
   "cell_type": "code",
   "execution_count": null,
   "metadata": {},
   "outputs": [],
   "source": [
    "from sklearn.ensemble import RandomForestClassifier\n",
    "classifier = RandomForestClassifier(max_depth = 10, max_features = 5, min_samples_leaf = 4,min_samples_split = 10,n_estimators = 100, criterion = 'entropy', random_state = 0)\n",
    "classifier.fit(X_train, y_train)\n",
    "y_pred = classifier.predict(X_test)\n",
    "\n",
    "from sklearn.metrics import accuracy_score\n",
    "accuracy_score(y_test, y_pred)\n"
   ]
  },
  {
   "cell_type": "code",
   "execution_count": null,
   "metadata": {},
   "outputs": [],
   "source": [
    "import warnings # current version of seaborn generates a bunch of warnings that we'll ignore\n",
    "warnings.filterwarnings(\"ignore\")\n",
    "import seaborn as sns\n",
    "import matplotlib.pyplot as plt\n",
    "sns.set(rc={'figure.figsize':(12,6)})\n",
    "sns.scatterplot(y_test, y_pred)\n",
    "plt.show()"
   ]
  },
  {
   "cell_type": "code",
   "execution_count": null,
   "metadata": {},
   "outputs": [],
   "source": [
    "from sklearn.ensemble import RandomForestClassifier\n",
    "from sklearn.model_selection import GridSearchCV\n",
    "param_grid = {\n",
    "    'bootstrap': [True],\n",
    "    'max_depth': [10,20,30,40],\n",
    "    'max_features': [3,4,5],\n",
    "    'min_samples_leaf': [3, 4, 5],\n",
    "    'min_samples_split': [8, 10, 12],\n",
    "    'n_estimators': [100, 200, 300, 500,1000]\n",
    "}\n",
    "rf = RandomForestClassifier()\n",
    "grid_search = GridSearchCV(estimator = rf, param_grid = param_grid, \n",
    "                          cv = 3, n_jobs = -1, verbose = 2)"
   ]
  },
  {
   "cell_type": "code",
   "execution_count": null,
   "metadata": {},
   "outputs": [],
   "source": [
    "grid_search.fit(X_train, y_train)\n",
    "grid_search.best_params_                                "
   ]
  },
  {
   "cell_type": "code",
   "execution_count": null,
   "metadata": {},
   "outputs": [],
   "source": [
    "from sklearn.ensemble import RandomForestClassifier\n",
    "classifier = RandomForestClassifier(max_depth = 30, max_features = 5, min_samples_leaf = 3,min_samples_split = 10,n_estimators = 100, criterion = 'entropy', random_state = 0)\n",
    "classifier.fit(X_train, y_train)\n",
    "y_pred = classifier.predict(X_test)"
   ]
  },
  {
   "cell_type": "code",
   "execution_count": null,
   "metadata": {},
   "outputs": [],
   "source": [
    "from sklearn.metrics import accuracy_score\n",
    "accuracy_score(y_test, y_pred)"
   ]
  },
  {
   "cell_type": "code",
   "execution_count": null,
   "metadata": {},
   "outputs": [],
   "source": [
    "import warnings # current version of seaborn generates a bunch of warnings that we'll ignore\n",
    "warnings.filterwarnings(\"ignore\")\n",
    "import seaborn as sns\n",
    "import matplotlib.pyplot as plt\n",
    "sns.set(rc={'figure.figsize':(12,6)})\n",
    "# sns.(y_test, y_pred)\n",
    "sns.scatterplot(y_test, y_pred)\n",
    "plt.show()"
   ]
  },
  {
   "cell_type": "code",
   "execution_count": null,
   "metadata": {},
   "outputs": [],
   "source": [
    "# Grid search cross validation\n",
    "from sklearn.model_selection import GridSearchCV\n",
    "from sklearn.linear_model import LogisticRegression\n",
    "import numpy as np\n",
    "grid={\"C\":np.logspace(-3,3,7), \"penalty\":[\"l1\",\"l2\"]}# l1 lasso l2 ridge\n",
    "logreg=LogisticRegression()\n",
    "logreg_cv=GridSearchCV(logreg,grid,cv=10)\n",
    "logreg_cv.fit(X_train,y_train)\n",
    "\n",
    "print(\"tuned hpyerparameters :(best parameters) \",logreg_cv.best_params_)\n",
    "print(\"accuracy :\",logreg_cv.best_score_)"
   ]
  },
  {
   "cell_type": "code",
   "execution_count": null,
   "metadata": {},
   "outputs": [],
   "source": [
    "from sklearn.linear_model import LogisticRegression\n",
    "\n",
    "logistic = LogisticRegression(C = 100, penalty = 'l2')\n",
    "\n",
    "logistic.fit(X_train, y_train)\n",
    "y_pred = logistic.predict(X_test)"
   ]
  },
  {
   "cell_type": "code",
   "execution_count": null,
   "metadata": {},
   "outputs": [],
   "source": [
    "from sklearn.metrics import accuracy_score\n",
    "accuracy_score(y_test, y_pred)"
   ]
  },
  {
   "cell_type": "code",
   "execution_count": null,
   "metadata": {},
   "outputs": [],
   "source": [
    "import warnings # current version of seaborn generates a bunch of warnings that we'll ignore\n",
    "warnings.filterwarnings(\"ignore\")\n",
    "import seaborn as sns\n",
    "import matplotlib.pyplot as plt\n",
    "sns.set(rc={'figure.figsize':(12,6)})\n",
    "# sns.(y_test, y_pred)\n",
    "sns.scatterplot(y_test, y_pred)\n",
    "plt.show()"
   ]
  },
  {
   "cell_type": "code",
   "execution_count": null,
   "metadata": {},
   "outputs": [],
   "source": [
    "input1 = 'Very creative and innovative person with ability to solve problems. Completed Msc in android development'\n",
    "input_vect = vectorizer.transform([input1])\n",
    "input_vect = input_vect.toarray()\n",
    "\n",
    "output = logistic.predict(input_vect)\n",
    "\n",
    "output = le.inverse_transform(output)\n",
    "\n",
    "print(output)\n"
   ]
  },
  {
   "cell_type": "code",
   "execution_count": null,
   "metadata": {},
   "outputs": [],
   "source": []
  }
 ],
 "metadata": {
  "kernelspec": {
   "display_name": "Python 3",
   "language": "python",
   "name": "python3"
  },
  "language_info": {
   "codemirror_mode": {
    "name": "ipython",
    "version": 3
   },
   "file_extension": ".py",
   "mimetype": "text/x-python",
   "name": "python",
   "nbconvert_exporter": "python",
   "pygments_lexer": "ipython3",
   "version": "3.7.4"
  }
 },
 "nbformat": 4,
 "nbformat_minor": 4
}
